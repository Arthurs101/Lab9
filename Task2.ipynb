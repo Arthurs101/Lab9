{
 "cells": [
  {
   "cell_type": "markdown",
   "metadata": {},
   "source": [
    "# Task2 \n",
    "## Modelo Oculto de Markov"
   ]
  },
  {
   "cell_type": "code",
   "execution_count": 11,
   "metadata": {},
   "outputs": [],
   "source": [
    "# clase de HMM\n",
    "import random\n",
    "class HMM:\n",
    "    def __init__(self,states,obervations,inital_prob,transition_prob,emission_prob):\n",
    "        self.states = states\n",
    "        self.observations = obervations\n",
    "        self.initial_prob = inital_prob\n",
    "        self.transition_prob = transition_prob\n",
    "        self.emission_prob = emission_prob\n",
    "    def generate_sequence(self,lengths):\n",
    "        sequence = []\n",
    "        # Generate subsequent observations using the Viterbi algorithm\n",
    "        current_state = random.choices(self.states, weights=[self.initial_prob[state] for state in self.states])[0]\n",
    "        for _ in range(1, lengths+1):\n",
    "            next_state = random.choices(self.states, weights=[self.transition_prob[current_state][state] for state in self.states])[0]\n",
    "            sequence.append(next_state)\n",
    "            current_state = next_state\n",
    "        return sequence\n",
    "    \n",
    "    def forward(self,observations):\n",
    "        forward_prob = [{}]\n",
    "        # Initialize base case\n",
    "        for state in self.states:\n",
    "            forward_prob[0][state] = self.initial_prob[state] * self.emission_prob[state][observations[0]]\n",
    "        \n",
    "        # Forward algorithm recursion\n",
    "        for t in range(1, len(observations)):\n",
    "            forward_prob.append({})\n",
    "            for state_to in self.states:\n",
    "                forward_prob[t][state_to] = sum(forward_prob[t-1][state_from] * self.transition_prob[state_from][state_to] * self.emission_prob[state_to][observations[t]] for state_from in self.states)\n",
    "        \n",
    "        return forward_prob\n",
    "    \n",
    "    def backward(self,observations):\n",
    "        backward_prob = [{} for _ in range(len(observations))]\n",
    "        # Initialize base case\n",
    "        for state in self.states:\n",
    "            backward_prob[-1][state] = 1\n",
    "        \n",
    "        # Backward algorithm recursion\n",
    "        for t in range(len(observations)-2, -1, -1):\n",
    "            for state_from in self.states:\n",
    "                backward_prob[t][state_from] = sum(self.transition_prob[state_from][state_to] * self.emission_prob[state_to][observations[t+1]] * backward_prob[t+1][state_to] for state_to in self.states)\n",
    "        \n",
    "        return backward_prob\n",
    "    \n",
    "    def compute_state_probabilities(self,observations):\n",
    "        forward_prob = self.forward(observations)\n",
    "        backward_prob = self.backward(observations)\n",
    "        \n",
    "        state_probabilities = []\n",
    "        for t in range(len(observations)):\n",
    "            state_prob = {}\n",
    "            for state in self.states:\n",
    "                state_prob[state] = (forward_prob[t][state] * backward_prob[t][state]) / sum(forward_prob[t][s] * backward_prob[t][s] for s in self.states)\n",
    "            state_probabilities.append(state_prob)\n",
    "        \n",
    "        return state_probabilities\n",
    "    "
   ]
  },
  {
   "cell_type": "code",
   "execution_count": 10,
   "metadata": {},
   "outputs": [
    {
     "name": "stdout",
     "output_type": "stream",
     "text": [
      "Secuencia Generada: ['Sunny', 'Rainy', 'Rainy', 'Rainy']\n",
      "\n",
      "Probabilidades Forward:\n",
      "[{'Sunny': 0.4, 'Rainy': 0.15}, {'Sunny': 0.30400000000000005, 'Rainy': 0.051000000000000004}, {'Sunny': 0.05272000000000002, 'Rainy': 0.06398000000000001}]\n",
      "\n",
      "Probabilidades Backward:\n",
      "[{'Sunny': 0.22200000000000006, 'Rainy': 0.18600000000000003}, {'Sunny': 0.30000000000000004, 'Rainy': 0.5}, {'Sunny': 1, 'Rainy': 1}]\n",
      "\n",
      "Probabilidades de Estados:\n",
      "[{'Sunny': 0.7609254498714653, 'Rainy': 0.23907455012853465}, {'Sunny': 0.7814910025706941, 'Rainy': 0.21850899742930588}, {'Sunny': 0.45175664095972584, 'Rainy': 0.5482433590402742}]\n"
     ]
    }
   ],
   "source": [
    "\n",
    "# Uso y datos\n",
    "states = ['Sunny', 'Rainy']\n",
    "observations = ['Sunny', 'Sunny', 'Rainy'] \n",
    "initial_prob = {'Sunny': 0.5, 'Rainy': 0.5}\n",
    "transition_prob = {\"Sunny\": {\"Sunny\": 0.8, 'Rainy': 0.2}, 'Rainy': {\"Sunny\": 0.4, \"Rainy\": 0.6}} \n",
    "emission_prob = {'Sunny': {'Sunny': 0.8, 'Rainy': 0.2}, 'Rainy': {'Sunny': 0.3, 'Rainy': 0.7}}\n",
    "hmm = HMM(states, observations, initial_prob, transition_prob, emission_prob)\n",
    "# Generar una secuencia de observaciones. \n",
    "obs_sequence = hmm.generate_sequence(5) \n",
    "print(\"Secuencia Generada:\", obs_sequence)\n",
    "# Calculo de probabilidades forward \n",
    "forward_probs = hmm.forward (observations) \n",
    "print(\"\\nProbabilidades Forward:\") \n",
    "print(forward_probs)\n",
    "# Calculo de probabilidades backward \n",
    "backward_probs = hmm.backward (observations) \n",
    "print(\"\\nProbabilidades Backward:\") \n",
    "print(backward_probs)\n",
    "# Calcular probabilidades de estado\n",
    "state_probs = hmm.compute_state_probabilities (observations) \n",
    "print(\"\\nProbabilidades de Estados:\")\n",
    "print(state_probs)"
   ]
  }
 ],
 "metadata": {
  "kernelspec": {
   "display_name": "Python 3",
   "language": "python",
   "name": "python3"
  },
  "language_info": {
   "codemirror_mode": {
    "name": "ipython",
    "version": 3
   },
   "file_extension": ".py",
   "mimetype": "text/x-python",
   "name": "python",
   "nbconvert_exporter": "python",
   "pygments_lexer": "ipython3",
   "version": "3.11.3"
  }
 },
 "nbformat": 4,
 "nbformat_minor": 2
}
